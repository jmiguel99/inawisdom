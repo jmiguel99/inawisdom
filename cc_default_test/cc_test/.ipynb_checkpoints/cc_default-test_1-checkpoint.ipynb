{
 "cells": [
  {
   "cell_type": "markdown",
   "metadata": {},
   "source": [
    "Chosen Dataset\n",
    "http://archive.ics.uci.edu/ml/datasets/default+of+credit+card+clients#"
   ]
  },
  {
   "cell_type": "code",
   "execution_count": 1,
   "metadata": {},
   "outputs": [],
   "source": [
    "import matplotlib.pyplot as plt\n",
    "import numpy as np\n",
    "import pandas as pd\n",
    "import seaborn as sns\n",
    "from sklearn.ensemble import RandomForestClassifier\n",
    "from sklearn.metrics import confusion_matrix\n",
    "from sklearn.metrics import accuracy_score\n",
    "from sklearn.model_selection import train_test_split\n",
    "from xgboost import XGBClassifier"
   ]
  },
  {
   "cell_type": "markdown",
   "metadata": {},
   "source": [
    "# Data Load"
   ]
  },
  {
   "cell_type": "code",
   "execution_count": 2,
   "metadata": {},
   "outputs": [
    {
     "name": "stdout",
     "output_type": "stream",
     "text": [
      "    LIMIT_BAL  SEX  EDUCATION  MARRIAGE  AGE  PAY_0  PAY_2  PAY_3  PAY_4  \\\n",
      "ID                                                                         \n",
      "1       20000    2          2         1   24      2      2     -1     -1   \n",
      "2      120000    2          2         2   26     -1      2      0      0   \n",
      "3       90000    2          2         2   34      0      0      0      0   \n",
      "4       50000    2          2         1   37      0      0      0      0   \n",
      "5       50000    1          2         1   57     -1      0     -1      0   \n",
      "\n",
      "    PAY_5  ...  BILL_AMT4  BILL_AMT5  BILL_AMT6  PAY_AMT1  PAY_AMT2  PAY_AMT3  \\\n",
      "ID         ...                                                                  \n",
      "1      -2  ...          0          0          0         0       689         0   \n",
      "2       0  ...       3272       3455       3261         0      1000      1000   \n",
      "3       0  ...      14331      14948      15549      1518      1500      1000   \n",
      "4       0  ...      28314      28959      29547      2000      2019      1200   \n",
      "5       0  ...      20940      19146      19131      2000     36681     10000   \n",
      "\n",
      "    PAY_AMT4  PAY_AMT5  PAY_AMT6  default payment next month  \n",
      "ID                                                            \n",
      "1          0         0         0                           1  \n",
      "2       1000         0      2000                           1  \n",
      "3       1000      1000      5000                           0  \n",
      "4       1100      1069      1000                           0  \n",
      "5       9000       689       679                           0  \n",
      "\n",
      "[5 rows x 24 columns]\n",
      "<class 'pandas.core.frame.DataFrame'>\n",
      "Int64Index: 30000 entries, 1 to 30000\n",
      "Data columns (total 24 columns):\n",
      "LIMIT_BAL                     30000 non-null int64\n",
      "SEX                           30000 non-null int64\n",
      "EDUCATION                     30000 non-null int64\n",
      "MARRIAGE                      30000 non-null int64\n",
      "AGE                           30000 non-null int64\n",
      "PAY_0                         30000 non-null int64\n",
      "PAY_2                         30000 non-null int64\n",
      "PAY_3                         30000 non-null int64\n",
      "PAY_4                         30000 non-null int64\n",
      "PAY_5                         30000 non-null int64\n",
      "PAY_6                         30000 non-null int64\n",
      "BILL_AMT1                     30000 non-null int64\n",
      "BILL_AMT2                     30000 non-null int64\n",
      "BILL_AMT3                     30000 non-null int64\n",
      "BILL_AMT4                     30000 non-null int64\n",
      "BILL_AMT5                     30000 non-null int64\n",
      "BILL_AMT6                     30000 non-null int64\n",
      "PAY_AMT1                      30000 non-null int64\n",
      "PAY_AMT2                      30000 non-null int64\n",
      "PAY_AMT3                      30000 non-null int64\n",
      "PAY_AMT4                      30000 non-null int64\n",
      "PAY_AMT5                      30000 non-null int64\n",
      "PAY_AMT6                      30000 non-null int64\n",
      "default payment next month    30000 non-null int64\n",
      "dtypes: int64(24)\n",
      "memory usage: 5.7 MB\n",
      "            LIMIT_BAL           SEX     EDUCATION      MARRIAGE           AGE  \\\n",
      "count    30000.000000  30000.000000  30000.000000  30000.000000  30000.000000   \n",
      "mean    167484.322667      1.603733      1.853133      1.551867     35.485500   \n",
      "std     129747.661567      0.489129      0.790349      0.521970      9.217904   \n",
      "min      10000.000000      1.000000      0.000000      0.000000     21.000000   \n",
      "25%      50000.000000      1.000000      1.000000      1.000000     28.000000   \n",
      "50%     140000.000000      2.000000      2.000000      2.000000     34.000000   \n",
      "75%     240000.000000      2.000000      2.000000      2.000000     41.000000   \n",
      "max    1000000.000000      2.000000      6.000000      3.000000     79.000000   \n",
      "\n",
      "              PAY_0         PAY_2         PAY_3         PAY_4         PAY_5  \\\n",
      "count  30000.000000  30000.000000  30000.000000  30000.000000  30000.000000   \n",
      "mean      -0.016700     -0.133767     -0.166200     -0.220667     -0.266200   \n",
      "std        1.123802      1.197186      1.196868      1.169139      1.133187   \n",
      "min       -2.000000     -2.000000     -2.000000     -2.000000     -2.000000   \n",
      "25%       -1.000000     -1.000000     -1.000000     -1.000000     -1.000000   \n",
      "50%        0.000000      0.000000      0.000000      0.000000      0.000000   \n",
      "75%        0.000000      0.000000      0.000000      0.000000      0.000000   \n",
      "max        8.000000      8.000000      8.000000      8.000000      8.000000   \n",
      "\n",
      "       ...      BILL_AMT4      BILL_AMT5      BILL_AMT6       PAY_AMT1  \\\n",
      "count  ...   30000.000000   30000.000000   30000.000000   30000.000000   \n",
      "mean   ...   43262.948967   40311.400967   38871.760400    5663.580500   \n",
      "std    ...   64332.856134   60797.155770   59554.107537   16563.280354   \n",
      "min    ... -170000.000000  -81334.000000 -339603.000000       0.000000   \n",
      "25%    ...    2326.750000    1763.000000    1256.000000    1000.000000   \n",
      "50%    ...   19052.000000   18104.500000   17071.000000    2100.000000   \n",
      "75%    ...   54506.000000   50190.500000   49198.250000    5006.000000   \n",
      "max    ...  891586.000000  927171.000000  961664.000000  873552.000000   \n",
      "\n",
      "           PAY_AMT2      PAY_AMT3       PAY_AMT4       PAY_AMT5  \\\n",
      "count  3.000000e+04   30000.00000   30000.000000   30000.000000   \n",
      "mean   5.921163e+03    5225.68150    4826.076867    4799.387633   \n",
      "std    2.304087e+04   17606.96147   15666.159744   15278.305679   \n",
      "min    0.000000e+00       0.00000       0.000000       0.000000   \n",
      "25%    8.330000e+02     390.00000     296.000000     252.500000   \n",
      "50%    2.009000e+03    1800.00000    1500.000000    1500.000000   \n",
      "75%    5.000000e+03    4505.00000    4013.250000    4031.500000   \n",
      "max    1.684259e+06  896040.00000  621000.000000  426529.000000   \n",
      "\n",
      "            PAY_AMT6  default payment next month  \n",
      "count   30000.000000                30000.000000  \n",
      "mean     5215.502567                    0.221200  \n",
      "std     17777.465775                    0.415062  \n",
      "min         0.000000                    0.000000  \n",
      "25%       117.750000                    0.000000  \n",
      "50%      1500.000000                    0.000000  \n",
      "75%      4000.000000                    0.000000  \n",
      "max    528666.000000                    1.000000  \n",
      "\n",
      "[8 rows x 24 columns]\n"
     ]
    }
   ],
   "source": [
    "file_path = '../data/default_cc_clients.xls'\n",
    "data = pd.read_excel(file_path, index_col=0, skiprows=1, header=0)\n",
    "\n",
    "print(data.head())\n",
    "data.info()     # Checked for nulls in dataset\n",
    "\n",
    "print(data.describe())"
   ]
  },
  {
   "cell_type": "markdown",
   "metadata": {},
   "source": [
    "- The description of the dataset estates that there are 30000 rows, all of the features are int64 objects and there are not null values present in the dataset. \n",
    "- Data for the field related to Pay delays in months (PAY_X) contain more information that the information stated in the data description\n",
    "- The data in fields PAY_X ranges from -2 to 8, and there is not any information about the -2 and 0 in the data documentation.\n",
    "More checks to be done further down"
   ]
  },
  {
   "cell_type": "code",
   "execution_count": 3,
   "metadata": {},
   "outputs": [
    {
     "name": "stdout",
     "output_type": "stream",
     "text": [
      "1684259 0\n"
     ]
    }
   ],
   "source": [
    "print(data['PAY_AMT2'].max(), data['PAY_AMT2'].min())"
   ]
  },
  {
   "cell_type": "code",
   "execution_count": 4,
   "metadata": {},
   "outputs": [
    {
     "data": {
      "text/plain": [
       "0        5249\n",
       "2000     1363\n",
       "3000      891\n",
       "5000      698\n",
       "1500      507\n",
       "         ... \n",
       "24125       1\n",
       "20031       1\n",
       "9019        1\n",
       "11066       1\n",
       "10850       1\n",
       "Name: PAY_AMT1, Length: 7943, dtype: int64"
      ]
     },
     "execution_count": 4,
     "metadata": {},
     "output_type": "execute_result"
    }
   ],
   "source": [
    "data['PAY_AMT1'].value_counts()"
   ]
  },
  {
   "cell_type": "code",
   "execution_count": 5,
   "metadata": {},
   "outputs": [
    {
     "name": "stdout",
     "output_type": "stream",
     "text": [
      "2    0.603733\n",
      "1    0.396267\n",
      "Name: SEX, dtype: float64\n",
      "2    0.467667\n",
      "1    0.352833\n",
      "3    0.163900\n",
      "5    0.009333\n",
      "4    0.004100\n",
      "6    0.001700\n",
      "0    0.000467\n",
      "Name: EDUCATION, dtype: float64\n",
      "2    0.532133\n",
      "1    0.455300\n",
      "3    0.010767\n",
      "0    0.001800\n",
      "Name: MARRIAGE, dtype: float64\n",
      "0    0.7788\n",
      "1    0.2212\n",
      "Name: default payment next month, dtype: float64\n"
     ]
    }
   ],
   "source": [
    "print(data['SEX'].value_counts(normalize=True))\n",
    "print(data['EDUCATION'].value_counts(normalize=True))\n",
    "print(data['MARRIAGE'].value_counts(normalize=True))\n",
    "print(data['default payment next month'].value_counts(normalize=True))\n"
   ]
  },
  {
   "cell_type": "markdown",
   "metadata": {},
   "source": [
    "### Info:\n",
    "- Male(1)= 39.63% Female(2) = 60.37,  \n",
    "- Graduate School(1) = 35.28%, University(2) = 46.77%, High School(3) = 16.39%, Others(0, 4, 5, 6) = 1.56%\n",
    "- Married = 45.53% Single = 53.21%, Others(0, 3) = 1.26%\n",
    "- 77.88% Customers up to date / Not default\n",
    "- 22.12% of customers are already on default"
   ]
  },
  {
   "cell_type": "markdown",
   "metadata": {},
   "source": [
    "# EDA"
   ]
  },
  {
   "cell_type": "code",
   "execution_count": 6,
   "metadata": {},
   "outputs": [
    {
     "data": {
      "image/png": "[encoded data removed]",
      "text/plain": [
       "<Figure size 1080x720 with 1 Axes>"
      ]
     },
     "metadata": {
      "needs_background": "light"
     },
     "output_type": "display_data"
    }
   ],
   "source": [
    "plt.figure(figsize=(15, 10))  # Distribution Plot data for LIMIT_BAL (max amount of CC) \n",
    "sns.distplot(data['LIMIT_BAL'], color='r', bins=100, hist_kws={'alpha': 0.4});"
   ]
  },
  {
   "cell_type": "markdown",
   "metadata": {},
   "source": [
    "Data is skewed right and presents outliers above 500000 NT dollars with some of the most biggest limits above 1M NT dollars"
   ]
  },
  {
   "cell_type": "code",
   "execution_count": 7,
   "metadata": {},
   "outputs": [
    {
     "data": {
      "image/png": "[encoded data removed]",
      "text/plain": [
       "<Figure size 1152x1440 with 6 Axes>"
      ]
     },
     "metadata": {
      "needs_background": "light"
     },
     "output_type": "display_data"
    }
   ],
   "source": [
    "data.iloc[:,11:17].hist(figsize=(16, 20), bins=100, xlabelsize=8, ylabelsize=8, color= 'lightcoral', range= (-17000, 350000)); \n",
    "# Plot Histogram of BILL_AMTX Columns"
   ]
  },
  {
   "cell_type": "code",
   "execution_count": 8,
   "metadata": {},
   "outputs": [
    {
     "data": {
      "image/png": "[encoded data removed]",
      "text/plain": [
       "<Figure size 1152x1440 with 6 Axes>"
      ]
     },
     "metadata": {
      "needs_background": "light"
     },
     "output_type": "display_data"
    }
   ],
   "source": [
    "data.iloc[:,17:23].hist(figsize=(16, 20), bins=100, xlabelsize=8, ylabelsize=8, color= 'lightblue', range= (-100, 100000));\n",
    "# Plot Histogram of PAY_AMTX Columns"
   ]
  },
  {
   "cell_type": "markdown",
   "metadata": {},
   "source": [
    "Histogram information reflects that payments are usually smaller than their counterpart bills. Data is right skewed\n",
    "Bills also contain negative values which can be associated with bigger amount of money being paid by customers"
   ]
  },
  {
   "cell_type": "code",
   "execution_count": 9,
   "metadata": {},
   "outputs": [
    {
     "data": {
      "text/plain": [
       "<BarContainer object of 100 artists>"
      ]
     },
     "execution_count": 9,
     "metadata": {},
     "output_type": "execute_result"
    },
    {
     "data": {
      "image/png": "[encoded data removed]",
      "text/plain": [
       "<Figure size 1080x720 with 1 Axes>"
      ]
     },
     "metadata": {
      "needs_background": "light"
     },
     "output_type": "display_data"
    }
   ],
   "source": [
    "fig, ax = plt.subplots(figsize=(15,10))\n",
    "a_heights, a_bins = np.histogram(data['BILL_AMT4'], bins= 100, range=(-100,100000))\n",
    "\n",
    "b_heights, b_bins = np.histogram(data['PAY_AMT3'], bins=a_bins, range=(-100,100000))\n",
    "# Used previous month (Bill month 2 = Pay in Month 1 supposing paying month expired)\n",
    "width = (a_bins[1] - a_bins[0])/3\n",
    "\n",
    "ax.bar(a_bins[:-1], a_heights, width=width, facecolor='lightcoral')\n",
    "ax.bar(b_bins[:-1] + width, b_heights, width=width, facecolor='lightblue');"
   ]
  },
  {
   "cell_type": "markdown",
   "metadata": {},
   "source": [
    "Data shows that payments that when payment amounts are higher, less payments are made\n",
    "Could indicate that more people are paying less money month to month. A possible indication of default as will be expecting similar histograms"
   ]
  },
  {
   "cell_type": "code",
   "execution_count": 10,
   "metadata": {},
   "outputs": [
    {
     "data": {
      "text/plain": [
       "4708"
      ]
     },
     "execution_count": 10,
     "metadata": {},
     "output_type": "execute_result"
    }
   ],
   "source": [
    "data['BILL_AMT6'][(data['BILL_AMT6'] <= 0)  & (data['BILL_AMT6'] < 100 )].count()"
   ]
  },
  {
   "cell_type": "code",
   "execution_count": 11,
   "metadata": {},
   "outputs": [
    {
     "data": {
      "text/plain": [
       "5396"
      ]
     },
     "execution_count": 11,
     "metadata": {},
     "output_type": "execute_result"
    }
   ],
   "source": [
    "data.PAY_AMT2[data.PAY_AMT2 == 0].count()"
   ]
  },
  {
   "cell_type": "code",
   "execution_count": 12,
   "metadata": {},
   "outputs": [
    {
     "name": "stdout",
     "output_type": "stream",
     "text": [
      "Looking for 0 Values\n",
      "15730\n",
      "15764\n",
      "16455\n",
      "16947\n",
      "16286\n",
      "14737\n",
      "Looking for -2 Values\n",
      "3782\n",
      "4085\n",
      "4348\n",
      "4546\n",
      "4895\n",
      "2759\n"
     ]
    }
   ],
   "source": [
    "print('Looking for 0 Values')\n",
    "print(data.PAY_2[data.PAY_2 == 0].count())\n",
    "print(data.PAY_3[data.PAY_3 == 0].count())\n",
    "print(data.PAY_4[data.PAY_4 == 0].count())\n",
    "print(data.PAY_5[data.PAY_5 == 0].count())\n",
    "print(data.PAY_6[data.PAY_6 == 0].count())\n",
    "print(data.PAY_0[data.PAY_0 == 0].count())\n",
    "\n",
    "print('Looking for -2 Values')\n",
    "print(data.PAY_2[data.PAY_2 == -2].count())\n",
    "print(data.PAY_3[data.PAY_3 == -2].count())\n",
    "print(data.PAY_4[data.PAY_4 == -2].count())\n",
    "print(data.PAY_5[data.PAY_5 == -2].count())\n",
    "print(data.PAY_6[data.PAY_6 == -2].count())\n",
    "print(data.PAY_0[data.PAY_0 == -2].count())\n"
   ]
  },
  {
   "cell_type": "code",
   "execution_count": 13,
   "metadata": {},
   "outputs": [
    {
     "data": {
      "text/plain": [
       "LIMIT_BAL                     317\n",
       "SEX                           317\n",
       "EDUCATION                     317\n",
       "MARRIAGE                      317\n",
       "AGE                           317\n",
       "PAY_0                         317\n",
       "PAY_2                         317\n",
       "PAY_3                         317\n",
       "PAY_4                         317\n",
       "PAY_5                         317\n",
       "PAY_6                         317\n",
       "BILL_AMT1                     317\n",
       "BILL_AMT2                     317\n",
       "BILL_AMT3                     317\n",
       "BILL_AMT4                     317\n",
       "BILL_AMT5                     317\n",
       "BILL_AMT6                     317\n",
       "PAY_AMT1                      317\n",
       "PAY_AMT2                      317\n",
       "PAY_AMT3                      317\n",
       "PAY_AMT4                      317\n",
       "PAY_AMT5                      317\n",
       "PAY_AMT6                      317\n",
       "default payment next month    317\n",
       "dtype: int64"
      ]
     },
     "execution_count": 13,
     "metadata": {},
     "output_type": "execute_result"
    }
   ],
   "source": [
    "data[(data['BILL_AMT6'] == 0)  & (data['BILL_AMT5'] == 0) & (data['BILL_AMT4'] == 0)  & (data['BILL_AMT3'] == 0) & (data['BILL_AMT2'] == 0)  & (data['BILL_AMT1'] == 0) & (data['default payment next month'] == 1)].count()\n",
    "# Check for data with 0 bills and default 1"
   ]
  },
  {
   "cell_type": "markdown",
   "metadata": {},
   "source": [
    "Data shows records which contained bills with value 0 and default 1, which seems incorrect as there is likely to be money owed to the credit card issuer\n",
    "Lets delete the values"
   ]
  },
  {
   "cell_type": "code",
   "execution_count": 14,
   "metadata": {},
   "outputs": [
    {
     "name": "stdout",
     "output_type": "stream",
     "text": [
      "dropped 317 records from dataset\n"
     ]
    }
   ],
   "source": [
    "i = 0\n",
    "row_drop = []\n",
    "for row in data.iterrows():\n",
    "    rows = row[1]\n",
    "    idx = row[0]\n",
    "    if rows['BILL_AMT6'] == 0 and rows['BILL_AMT5'] == 0 and rows['BILL_AMT4'] == 0 and rows['BILL_AMT3'] == 0 and rows['BILL_AMT2'] == 0 and rows['BILL_AMT1'] == 0 and rows['default payment next month'] == 1:\n",
    "        i += 1\n",
    "        row_drop.append(idx)\n",
    "\n",
    "df_clean = data.drop(data.index[row_drop])\n",
    "print('dropped %s records from dataset' % i)"
   ]
  },
  {
   "cell_type": "code",
   "execution_count": 15,
   "metadata": {},
   "outputs": [
    {
     "data": {
      "text/plain": [
       "(29683, 24)"
      ]
     },
     "execution_count": 15,
     "metadata": {},
     "output_type": "execute_result"
    }
   ],
   "source": [
    "df_clean.shape"
   ]
  },
  {
   "cell_type": "code",
   "execution_count": 16,
   "metadata": {},
   "outputs": [],
   "source": [
    "df_corr = df_clean.corr(method='spearman') # Look for correlation between the variables"
   ]
  },
  {
   "cell_type": "code",
   "execution_count": 17,
   "metadata": {},
   "outputs": [
    {
     "data": {
      "image/png": "[encoded data removed]",
      "text/plain": [
       "<Figure size 1080x720 with 2 Axes>"
      ]
     },
     "metadata": {
      "needs_background": "light"
     },
     "output_type": "display_data"
    }
   ],
   "source": [
    "# Create heatmap of correlation \n",
    "plt.figure(figsize=(15,10))\n",
    "plt.title('Variable Correlation Heatmap', fontsize = 16);\n",
    "mask = np.zeros_like(df_corr, dtype=np.bool)\n",
    "mask[np.triu_indices_from(mask)] = True\n",
    "# Colors\n",
    "cmap = sns.diverging_palette(240, 10, as_cmap=True)# Plotting the heatmap\n",
    "sns.heatmap(df_corr, mask=mask, linewidths=.6, vmin=-1, vmax=1, cmap=cmap, annot = True, annot_kws={\"size\": 7});"
   ]
  },
  {
   "cell_type": "code",
   "execution_count": 18,
   "metadata": {},
   "outputs": [
    {
     "data": {
      "text/html": [
       "<div>\n",
       "<style scoped>\n",
       "    .dataframe tbody tr th:only-of-type {\n",
       "        vertical-align: middle;\n",
       "    }\n",
       "\n",
       "    .dataframe tbody tr th {\n",
       "        vertical-align: top;\n",
       "    }\n",
       "\n",
       "    .dataframe thead th {\n",
       "        text-align: right;\n",
       "    }\n",
       "</style>\n",
       "<table border=\"1\" class=\"dataframe\">\n",
       "  <thead>\n",
       "    <tr style=\"text-align: right;\">\n",
       "      <th></th>\n",
       "      <th>LIMIT_BAL</th>\n",
       "      <th>SEX</th>\n",
       "      <th>EDUCATION</th>\n",
       "      <th>MARRIAGE</th>\n",
       "      <th>AGE</th>\n",
       "      <th>PAY_0</th>\n",
       "      <th>PAY_2</th>\n",
       "      <th>PAY_3</th>\n",
       "      <th>PAY_4</th>\n",
       "      <th>PAY_5</th>\n",
       "      <th>...</th>\n",
       "      <th>BILL_AMT4</th>\n",
       "      <th>BILL_AMT5</th>\n",
       "      <th>BILL_AMT6</th>\n",
       "      <th>PAY_AMT1</th>\n",
       "      <th>PAY_AMT2</th>\n",
       "      <th>PAY_AMT3</th>\n",
       "      <th>PAY_AMT4</th>\n",
       "      <th>PAY_AMT5</th>\n",
       "      <th>PAY_AMT6</th>\n",
       "      <th>default payment next month</th>\n",
       "    </tr>\n",
       "  </thead>\n",
       "  <tbody>\n",
       "    <tr>\n",
       "      <td>LIMIT_BAL</td>\n",
       "      <td>1.000000</td>\n",
       "      <td>0.058165</td>\n",
       "      <td>-0.264574</td>\n",
       "      <td>-0.114236</td>\n",
       "      <td>0.186990</td>\n",
       "      <td>-0.297349</td>\n",
       "      <td>-0.343512</td>\n",
       "      <td>-0.332446</td>\n",
       "      <td>-0.308877</td>\n",
       "      <td>-0.285160</td>\n",
       "      <td>...</td>\n",
       "      <td>0.072561</td>\n",
       "      <td>0.080384</td>\n",
       "      <td>0.088130</td>\n",
       "      <td>0.272685</td>\n",
       "      <td>0.279131</td>\n",
       "      <td>0.284942</td>\n",
       "      <td>0.282981</td>\n",
       "      <td>0.293908</td>\n",
       "      <td>0.317297</td>\n",
       "      <td>-0.169137</td>\n",
       "    </tr>\n",
       "    <tr>\n",
       "      <td>SEX</td>\n",
       "      <td>0.058165</td>\n",
       "      <td>1.000000</td>\n",
       "      <td>0.014965</td>\n",
       "      <td>-0.031358</td>\n",
       "      <td>-0.091616</td>\n",
       "      <td>-0.053519</td>\n",
       "      <td>-0.072223</td>\n",
       "      <td>-0.067724</td>\n",
       "      <td>-0.060214</td>\n",
       "      <td>-0.053226</td>\n",
       "      <td>...</td>\n",
       "      <td>-0.022822</td>\n",
       "      <td>-0.015054</td>\n",
       "      <td>-0.010633</td>\n",
       "      <td>-0.004916</td>\n",
       "      <td>0.008343</td>\n",
       "      <td>0.020621</td>\n",
       "      <td>0.013281</td>\n",
       "      <td>0.015016</td>\n",
       "      <td>0.033586</td>\n",
       "      <td>-0.040052</td>\n",
       "    </tr>\n",
       "    <tr>\n",
       "      <td>EDUCATION</td>\n",
       "      <td>-0.264574</td>\n",
       "      <td>0.014965</td>\n",
       "      <td>1.000000</td>\n",
       "      <td>-0.163111</td>\n",
       "      <td>0.158047</td>\n",
       "      <td>0.133043</td>\n",
       "      <td>0.168509</td>\n",
       "      <td>0.161723</td>\n",
       "      <td>0.151466</td>\n",
       "      <td>0.135926</td>\n",
       "      <td>...</td>\n",
       "      <td>0.068108</td>\n",
       "      <td>0.059475</td>\n",
       "      <td>0.055025</td>\n",
       "      <td>-0.042778</td>\n",
       "      <td>-0.047863</td>\n",
       "      <td>-0.042720</td>\n",
       "      <td>-0.044068</td>\n",
       "      <td>-0.050619</td>\n",
       "      <td>-0.054342</td>\n",
       "      <td>0.044159</td>\n",
       "    </tr>\n",
       "    <tr>\n",
       "      <td>MARRIAGE</td>\n",
       "      <td>-0.114236</td>\n",
       "      <td>-0.031358</td>\n",
       "      <td>-0.163111</td>\n",
       "      <td>1.000000</td>\n",
       "      <td>-0.463639</td>\n",
       "      <td>0.023837</td>\n",
       "      <td>0.037654</td>\n",
       "      <td>0.041986</td>\n",
       "      <td>0.044776</td>\n",
       "      <td>0.047018</td>\n",
       "      <td>...</td>\n",
       "      <td>0.005361</td>\n",
       "      <td>0.003399</td>\n",
       "      <td>0.004320</td>\n",
       "      <td>-0.004408</td>\n",
       "      <td>-0.015707</td>\n",
       "      <td>-0.013435</td>\n",
       "      <td>-0.016390</td>\n",
       "      <td>-0.013438</td>\n",
       "      <td>-0.015797</td>\n",
       "      <td>-0.026465</td>\n",
       "    </tr>\n",
       "    <tr>\n",
       "      <td>AGE</td>\n",
       "      <td>0.186990</td>\n",
       "      <td>-0.091616</td>\n",
       "      <td>0.158047</td>\n",
       "      <td>-0.463639</td>\n",
       "      <td>1.000000</td>\n",
       "      <td>-0.063574</td>\n",
       "      <td>-0.083239</td>\n",
       "      <td>-0.082809</td>\n",
       "      <td>-0.080064</td>\n",
       "      <td>-0.083558</td>\n",
       "      <td>...</td>\n",
       "      <td>-0.003328</td>\n",
       "      <td>-0.000534</td>\n",
       "      <td>0.000039</td>\n",
       "      <td>0.033869</td>\n",
       "      <td>0.043954</td>\n",
       "      <td>0.034018</td>\n",
       "      <td>0.040411</td>\n",
       "      <td>0.037773</td>\n",
       "      <td>0.039252</td>\n",
       "      <td>0.005563</td>\n",
       "    </tr>\n",
       "    <tr>\n",
       "      <td>PAY_0</td>\n",
       "      <td>-0.297349</td>\n",
       "      <td>-0.053519</td>\n",
       "      <td>0.133043</td>\n",
       "      <td>0.023837</td>\n",
       "      <td>-0.063574</td>\n",
       "      <td>1.000000</td>\n",
       "      <td>0.626909</td>\n",
       "      <td>0.548769</td>\n",
       "      <td>0.516515</td>\n",
       "      <td>0.486512</td>\n",
       "      <td>...</td>\n",
       "      <td>0.306448</td>\n",
       "      <td>0.298234</td>\n",
       "      <td>0.288745</td>\n",
       "      <td>-0.097742</td>\n",
       "      <td>-0.064614</td>\n",
       "      <td>-0.054617</td>\n",
       "      <td>-0.035075</td>\n",
       "      <td>-0.026318</td>\n",
       "      <td>-0.045749</td>\n",
       "      <td>0.292027</td>\n",
       "    </tr>\n",
       "    <tr>\n",
       "      <td>PAY_2</td>\n",
       "      <td>-0.343512</td>\n",
       "      <td>-0.072223</td>\n",
       "      <td>0.168509</td>\n",
       "      <td>0.037654</td>\n",
       "      <td>-0.083239</td>\n",
       "      <td>0.626909</td>\n",
       "      <td>1.000000</td>\n",
       "      <td>0.799877</td>\n",
       "      <td>0.713168</td>\n",
       "      <td>0.673430</td>\n",
       "      <td>...</td>\n",
       "      <td>0.496649</td>\n",
       "      <td>0.477367</td>\n",
       "      <td>0.458221</td>\n",
       "      <td>0.020080</td>\n",
       "      <td>0.082250</td>\n",
       "      <td>0.085910</td>\n",
       "      <td>0.094282</td>\n",
       "      <td>0.097854</td>\n",
       "      <td>0.081440</td>\n",
       "      <td>0.216524</td>\n",
       "    </tr>\n",
       "    <tr>\n",
       "      <td>PAY_3</td>\n",
       "      <td>-0.332446</td>\n",
       "      <td>-0.067724</td>\n",
       "      <td>0.161723</td>\n",
       "      <td>0.041986</td>\n",
       "      <td>-0.082809</td>\n",
       "      <td>0.548769</td>\n",
       "      <td>0.799877</td>\n",
       "      <td>1.000000</td>\n",
       "      <td>0.800597</td>\n",
       "      <td>0.718078</td>\n",
       "      <td>...</td>\n",
       "      <td>0.530649</td>\n",
       "      <td>0.506614</td>\n",
       "      <td>0.483601</td>\n",
       "      <td>0.214828</td>\n",
       "      <td>0.035946</td>\n",
       "      <td>0.101737</td>\n",
       "      <td>0.117600</td>\n",
       "      <td>0.123099</td>\n",
       "      <td>0.097173</td>\n",
       "      <td>0.194255</td>\n",
       "    </tr>\n",
       "    <tr>\n",
       "      <td>PAY_4</td>\n",
       "      <td>-0.308877</td>\n",
       "      <td>-0.060214</td>\n",
       "      <td>0.151466</td>\n",
       "      <td>0.044776</td>\n",
       "      <td>-0.080064</td>\n",
       "      <td>0.516515</td>\n",
       "      <td>0.713168</td>\n",
       "      <td>0.800597</td>\n",
       "      <td>1.000000</td>\n",
       "      <td>0.821820</td>\n",
       "      <td>...</td>\n",
       "      <td>0.591817</td>\n",
       "      <td>0.560537</td>\n",
       "      <td>0.532332</td>\n",
       "      <td>0.184366</td>\n",
       "      <td>0.245028</td>\n",
       "      <td>0.067078</td>\n",
       "      <td>0.142798</td>\n",
       "      <td>0.160351</td>\n",
       "      <td>0.141138</td>\n",
       "      <td>0.173312</td>\n",
       "    </tr>\n",
       "    <tr>\n",
       "      <td>PAY_5</td>\n",
       "      <td>-0.285160</td>\n",
       "      <td>-0.053226</td>\n",
       "      <td>0.135926</td>\n",
       "      <td>0.047018</td>\n",
       "      <td>-0.083558</td>\n",
       "      <td>0.486512</td>\n",
       "      <td>0.673430</td>\n",
       "      <td>0.718078</td>\n",
       "      <td>0.821820</td>\n",
       "      <td>1.000000</td>\n",
       "      <td>...</td>\n",
       "      <td>0.649483</td>\n",
       "      <td>0.617868</td>\n",
       "      <td>0.578585</td>\n",
       "      <td>0.174532</td>\n",
       "      <td>0.220761</td>\n",
       "      <td>0.258850</td>\n",
       "      <td>0.105042</td>\n",
       "      <td>0.183936</td>\n",
       "      <td>0.170629</td>\n",
       "      <td>0.158488</td>\n",
       "    </tr>\n",
       "    <tr>\n",
       "      <td>PAY_6</td>\n",
       "      <td>-0.264115</td>\n",
       "      <td>-0.043209</td>\n",
       "      <td>0.123205</td>\n",
       "      <td>0.044092</td>\n",
       "      <td>-0.076183</td>\n",
       "      <td>0.463333</td>\n",
       "      <td>0.634209</td>\n",
       "      <td>0.670732</td>\n",
       "      <td>0.731038</td>\n",
       "      <td>0.820745</td>\n",
       "      <td>...</td>\n",
       "      <td>0.605553</td>\n",
       "      <td>0.667213</td>\n",
       "      <td>0.629096</td>\n",
       "      <td>0.176755</td>\n",
       "      <td>0.198725</td>\n",
       "      <td>0.236582</td>\n",
       "      <td>0.282570</td>\n",
       "      <td>0.139950</td>\n",
       "      <td>0.197115</td>\n",
       "      <td>0.141842</td>\n",
       "    </tr>\n",
       "    <tr>\n",
       "      <td>BILL_AMT1</td>\n",
       "      <td>0.054032</td>\n",
       "      <td>-0.041063</td>\n",
       "      <td>0.094080</td>\n",
       "      <td>0.002964</td>\n",
       "      <td>0.001380</td>\n",
       "      <td>0.314254</td>\n",
       "      <td>0.570463</td>\n",
       "      <td>0.523558</td>\n",
       "      <td>0.511506</td>\n",
       "      <td>0.498387</td>\n",
       "      <td>...</td>\n",
       "      <td>0.806639</td>\n",
       "      <td>0.768602</td>\n",
       "      <td>0.733360</td>\n",
       "      <td>0.502388</td>\n",
       "      <td>0.471454</td>\n",
       "      <td>0.439682</td>\n",
       "      <td>0.440749</td>\n",
       "      <td>0.424513</td>\n",
       "      <td>0.409931</td>\n",
       "      <td>-0.026160</td>\n",
       "    </tr>\n",
       "    <tr>\n",
       "      <td>BILL_AMT2</td>\n",
       "      <td>0.048010</td>\n",
       "      <td>-0.040328</td>\n",
       "      <td>0.091552</td>\n",
       "      <td>0.005191</td>\n",
       "      <td>0.001555</td>\n",
       "      <td>0.329715</td>\n",
       "      <td>0.550585</td>\n",
       "      <td>0.588302</td>\n",
       "      <td>0.557569</td>\n",
       "      <td>0.536869</td>\n",
       "      <td>...</td>\n",
       "      <td>0.847700</td>\n",
       "      <td>0.802419</td>\n",
       "      <td>0.764603</td>\n",
       "      <td>0.635715</td>\n",
       "      <td>0.496508</td>\n",
       "      <td>0.467109</td>\n",
       "      <td>0.459598</td>\n",
       "      <td>0.448271</td>\n",
       "      <td>0.428458</td>\n",
       "      <td>-0.016383</td>\n",
       "    </tr>\n",
       "    <tr>\n",
       "      <td>BILL_AMT3</td>\n",
       "      <td>0.060227</td>\n",
       "      <td>-0.029743</td>\n",
       "      <td>0.080296</td>\n",
       "      <td>0.002963</td>\n",
       "      <td>0.001718</td>\n",
       "      <td>0.314033</td>\n",
       "      <td>0.518022</td>\n",
       "      <td>0.556964</td>\n",
       "      <td>0.618740</td>\n",
       "      <td>0.586495</td>\n",
       "      <td>...</td>\n",
       "      <td>0.903453</td>\n",
       "      <td>0.848206</td>\n",
       "      <td>0.803781</td>\n",
       "      <td>0.549358</td>\n",
       "      <td>0.636920</td>\n",
       "      <td>0.491244</td>\n",
       "      <td>0.487033</td>\n",
       "      <td>0.477186</td>\n",
       "      <td>0.457919</td>\n",
       "      <td>-0.013824</td>\n",
       "    </tr>\n",
       "    <tr>\n",
       "      <td>BILL_AMT4</td>\n",
       "      <td>0.072561</td>\n",
       "      <td>-0.022822</td>\n",
       "      <td>0.068108</td>\n",
       "      <td>0.005361</td>\n",
       "      <td>-0.003328</td>\n",
       "      <td>0.306448</td>\n",
       "      <td>0.496649</td>\n",
       "      <td>0.530649</td>\n",
       "      <td>0.591817</td>\n",
       "      <td>0.649483</td>\n",
       "      <td>...</td>\n",
       "      <td>1.000000</td>\n",
       "      <td>0.902749</td>\n",
       "      <td>0.847864</td>\n",
       "      <td>0.511849</td>\n",
       "      <td>0.554436</td>\n",
       "      <td>0.632943</td>\n",
       "      <td>0.505454</td>\n",
       "      <td>0.504270</td>\n",
       "      <td>0.481113</td>\n",
       "      <td>-0.009486</td>\n",
       "    </tr>\n",
       "    <tr>\n",
       "      <td>BILL_AMT5</td>\n",
       "      <td>0.080384</td>\n",
       "      <td>-0.015054</td>\n",
       "      <td>0.059475</td>\n",
       "      <td>0.003399</td>\n",
       "      <td>-0.000534</td>\n",
       "      <td>0.298234</td>\n",
       "      <td>0.477367</td>\n",
       "      <td>0.506614</td>\n",
       "      <td>0.560537</td>\n",
       "      <td>0.617868</td>\n",
       "      <td>...</td>\n",
       "      <td>0.902749</td>\n",
       "      <td>1.000000</td>\n",
       "      <td>0.902238</td>\n",
       "      <td>0.482090</td>\n",
       "      <td>0.514406</td>\n",
       "      <td>0.548918</td>\n",
       "      <td>0.645864</td>\n",
       "      <td>0.524931</td>\n",
       "      <td>0.509190</td>\n",
       "      <td>-0.007706</td>\n",
       "    </tr>\n",
       "    <tr>\n",
       "      <td>BILL_AMT6</td>\n",
       "      <td>0.088130</td>\n",
       "      <td>-0.010633</td>\n",
       "      <td>0.055025</td>\n",
       "      <td>0.004320</td>\n",
       "      <td>0.000039</td>\n",
       "      <td>0.288745</td>\n",
       "      <td>0.458221</td>\n",
       "      <td>0.483601</td>\n",
       "      <td>0.532332</td>\n",
       "      <td>0.578585</td>\n",
       "      <td>...</td>\n",
       "      <td>0.847864</td>\n",
       "      <td>0.902238</td>\n",
       "      <td>1.000000</td>\n",
       "      <td>0.455678</td>\n",
       "      <td>0.485811</td>\n",
       "      <td>0.518451</td>\n",
       "      <td>0.569124</td>\n",
       "      <td>0.666327</td>\n",
       "      <td>0.529000</td>\n",
       "      <td>-0.000716</td>\n",
       "    </tr>\n",
       "    <tr>\n",
       "      <td>PAY_AMT1</td>\n",
       "      <td>0.272685</td>\n",
       "      <td>-0.004916</td>\n",
       "      <td>-0.042778</td>\n",
       "      <td>-0.004408</td>\n",
       "      <td>0.033869</td>\n",
       "      <td>-0.097742</td>\n",
       "      <td>0.020080</td>\n",
       "      <td>0.214828</td>\n",
       "      <td>0.184366</td>\n",
       "      <td>0.174532</td>\n",
       "      <td>...</td>\n",
       "      <td>0.511849</td>\n",
       "      <td>0.482090</td>\n",
       "      <td>0.455678</td>\n",
       "      <td>1.000000</td>\n",
       "      <td>0.511090</td>\n",
       "      <td>0.518434</td>\n",
       "      <td>0.484300</td>\n",
       "      <td>0.467305</td>\n",
       "      <td>0.454556</td>\n",
       "      <td>-0.160923</td>\n",
       "    </tr>\n",
       "    <tr>\n",
       "      <td>PAY_AMT2</td>\n",
       "      <td>0.279131</td>\n",
       "      <td>0.008343</td>\n",
       "      <td>-0.047863</td>\n",
       "      <td>-0.015707</td>\n",
       "      <td>0.043954</td>\n",
       "      <td>-0.064614</td>\n",
       "      <td>0.082250</td>\n",
       "      <td>0.035946</td>\n",
       "      <td>0.245028</td>\n",
       "      <td>0.220761</td>\n",
       "      <td>...</td>\n",
       "      <td>0.554436</td>\n",
       "      <td>0.514406</td>\n",
       "      <td>0.485811</td>\n",
       "      <td>0.511090</td>\n",
       "      <td>1.000000</td>\n",
       "      <td>0.515649</td>\n",
       "      <td>0.518842</td>\n",
       "      <td>0.496743</td>\n",
       "      <td>0.490977</td>\n",
       "      <td>-0.151657</td>\n",
       "    </tr>\n",
       "    <tr>\n",
       "      <td>PAY_AMT3</td>\n",
       "      <td>0.284942</td>\n",
       "      <td>0.020621</td>\n",
       "      <td>-0.042720</td>\n",
       "      <td>-0.013435</td>\n",
       "      <td>0.034018</td>\n",
       "      <td>-0.054617</td>\n",
       "      <td>0.085910</td>\n",
       "      <td>0.101737</td>\n",
       "      <td>0.067078</td>\n",
       "      <td>0.258850</td>\n",
       "      <td>...</td>\n",
       "      <td>0.632943</td>\n",
       "      <td>0.548918</td>\n",
       "      <td>0.518451</td>\n",
       "      <td>0.518434</td>\n",
       "      <td>0.515649</td>\n",
       "      <td>1.000000</td>\n",
       "      <td>0.515078</td>\n",
       "      <td>0.533568</td>\n",
       "      <td>0.505670</td>\n",
       "      <td>-0.140389</td>\n",
       "    </tr>\n",
       "    <tr>\n",
       "      <td>PAY_AMT4</td>\n",
       "      <td>0.282981</td>\n",
       "      <td>0.013281</td>\n",
       "      <td>-0.044068</td>\n",
       "      <td>-0.016390</td>\n",
       "      <td>0.040411</td>\n",
       "      <td>-0.035075</td>\n",
       "      <td>0.094282</td>\n",
       "      <td>0.117600</td>\n",
       "      <td>0.142798</td>\n",
       "      <td>0.105042</td>\n",
       "      <td>...</td>\n",
       "      <td>0.505454</td>\n",
       "      <td>0.645864</td>\n",
       "      <td>0.569124</td>\n",
       "      <td>0.484300</td>\n",
       "      <td>0.518842</td>\n",
       "      <td>0.515078</td>\n",
       "      <td>1.000000</td>\n",
       "      <td>0.534313</td>\n",
       "      <td>0.546488</td>\n",
       "      <td>-0.128567</td>\n",
       "    </tr>\n",
       "    <tr>\n",
       "      <td>PAY_AMT5</td>\n",
       "      <td>0.293908</td>\n",
       "      <td>0.015016</td>\n",
       "      <td>-0.050619</td>\n",
       "      <td>-0.013438</td>\n",
       "      <td>0.037773</td>\n",
       "      <td>-0.026318</td>\n",
       "      <td>0.097854</td>\n",
       "      <td>0.123099</td>\n",
       "      <td>0.160351</td>\n",
       "      <td>0.183936</td>\n",
       "      <td>...</td>\n",
       "      <td>0.504270</td>\n",
       "      <td>0.524931</td>\n",
       "      <td>0.666327</td>\n",
       "      <td>0.467305</td>\n",
       "      <td>0.496743</td>\n",
       "      <td>0.533568</td>\n",
       "      <td>0.534313</td>\n",
       "      <td>1.000000</td>\n",
       "      <td>0.548917</td>\n",
       "      <td>-0.116669</td>\n",
       "    </tr>\n",
       "    <tr>\n",
       "      <td>PAY_AMT6</td>\n",
       "      <td>0.317297</td>\n",
       "      <td>0.033586</td>\n",
       "      <td>-0.054342</td>\n",
       "      <td>-0.015797</td>\n",
       "      <td>0.039252</td>\n",
       "      <td>-0.045749</td>\n",
       "      <td>0.081440</td>\n",
       "      <td>0.097173</td>\n",
       "      <td>0.141138</td>\n",
       "      <td>0.170629</td>\n",
       "      <td>...</td>\n",
       "      <td>0.481113</td>\n",
       "      <td>0.509190</td>\n",
       "      <td>0.529000</td>\n",
       "      <td>0.454556</td>\n",
       "      <td>0.490977</td>\n",
       "      <td>0.505670</td>\n",
       "      <td>0.546488</td>\n",
       "      <td>0.548917</td>\n",
       "      <td>1.000000</td>\n",
       "      <td>-0.121912</td>\n",
       "    </tr>\n",
       "    <tr>\n",
       "      <td>default payment next month</td>\n",
       "      <td>-0.169137</td>\n",
       "      <td>-0.040052</td>\n",
       "      <td>0.044159</td>\n",
       "      <td>-0.026465</td>\n",
       "      <td>0.005563</td>\n",
       "      <td>0.292027</td>\n",
       "      <td>0.216524</td>\n",
       "      <td>0.194255</td>\n",
       "      <td>0.173312</td>\n",
       "      <td>0.158488</td>\n",
       "      <td>...</td>\n",
       "      <td>-0.009486</td>\n",
       "      <td>-0.007706</td>\n",
       "      <td>-0.000716</td>\n",
       "      <td>-0.160923</td>\n",
       "      <td>-0.151657</td>\n",
       "      <td>-0.140389</td>\n",
       "      <td>-0.128567</td>\n",
       "      <td>-0.116669</td>\n",
       "      <td>-0.121912</td>\n",
       "      <td>1.000000</td>\n",
       "    </tr>\n",
       "  </tbody>\n",
       "</table>\n",
       "<p>24 rows × 24 columns</p>\n",
       "</div>"
      ],
      "text/plain": [
       "                            LIMIT_BAL       SEX  EDUCATION  MARRIAGE  \\\n",
       "LIMIT_BAL                    1.000000  0.058165  -0.264574 -0.114236   \n",
       "SEX                          0.058165  1.000000   0.014965 -0.031358   \n",
       "EDUCATION                   -0.264574  0.014965   1.000000 -0.163111   \n",
       "MARRIAGE                    -0.114236 -0.031358  -0.163111  1.000000   \n",
       "AGE                          0.186990 -0.091616   0.158047 -0.463639   \n",
       "PAY_0                       -0.297349 -0.053519   0.133043  0.023837   \n",
       "PAY_2                       -0.343512 -0.072223   0.168509  0.037654   \n",
       "PAY_3                       -0.332446 -0.067724   0.161723  0.041986   \n",
       "PAY_4                       -0.308877 -0.060214   0.151466  0.044776   \n",
       "PAY_5                       -0.285160 -0.053226   0.135926  0.047018   \n",
       "PAY_6                       -0.264115 -0.043209   0.123205  0.044092   \n",
       "BILL_AMT1                    0.054032 -0.041063   0.094080  0.002964   \n",
       "BILL_AMT2                    0.048010 -0.040328   0.091552  0.005191   \n",
       "BILL_AMT3                    0.060227 -0.029743   0.080296  0.002963   \n",
       "BILL_AMT4                    0.072561 -0.022822   0.068108  0.005361   \n",
       "BILL_AMT5                    0.080384 -0.015054   0.059475  0.003399   \n",
       "BILL_AMT6                    0.088130 -0.010633   0.055025  0.004320   \n",
       "PAY_AMT1                     0.272685 -0.004916  -0.042778 -0.004408   \n",
       "PAY_AMT2                     0.279131  0.008343  -0.047863 -0.015707   \n",
       "PAY_AMT3                     0.284942  0.020621  -0.042720 -0.013435   \n",
       "PAY_AMT4                     0.282981  0.013281  -0.044068 -0.016390   \n",
       "PAY_AMT5                     0.293908  0.015016  -0.050619 -0.013438   \n",
       "PAY_AMT6                     0.317297  0.033586  -0.054342 -0.015797   \n",
       "default payment next month  -0.169137 -0.040052   0.044159 -0.026465   \n",
       "\n",
       "                                 AGE     PAY_0     PAY_2     PAY_3     PAY_4  \\\n",
       "LIMIT_BAL                   0.186990 -0.297349 -0.343512 -0.332446 -0.308877   \n",
       "SEX                        -0.091616 -0.053519 -0.072223 -0.067724 -0.060214   \n",
       "EDUCATION                   0.158047  0.133043  0.168509  0.161723  0.151466   \n",
       "MARRIAGE                   -0.463639  0.023837  0.037654  0.041986  0.044776   \n",
       "AGE                         1.000000 -0.063574 -0.083239 -0.082809 -0.080064   \n",
       "PAY_0                      -0.063574  1.000000  0.626909  0.548769  0.516515   \n",
       "PAY_2                      -0.083239  0.626909  1.000000  0.799877  0.713168   \n",
       "PAY_3                      -0.082809  0.548769  0.799877  1.000000  0.800597   \n",
       "PAY_4                      -0.080064  0.516515  0.713168  0.800597  1.000000   \n",
       "PAY_5                      -0.083558  0.486512  0.673430  0.718078  0.821820   \n",
       "PAY_6                      -0.076183  0.463333  0.634209  0.670732  0.731038   \n",
       "BILL_AMT1                   0.001380  0.314254  0.570463  0.523558  0.511506   \n",
       "BILL_AMT2                   0.001555  0.329715  0.550585  0.588302  0.557569   \n",
       "BILL_AMT3                   0.001718  0.314033  0.518022  0.556964  0.618740   \n",
       "BILL_AMT4                  -0.003328  0.306448  0.496649  0.530649  0.591817   \n",
       "BILL_AMT5                  -0.000534  0.298234  0.477367  0.506614  0.560537   \n",
       "BILL_AMT6                   0.000039  0.288745  0.458221  0.483601  0.532332   \n",
       "PAY_AMT1                    0.033869 -0.097742  0.020080  0.214828  0.184366   \n",
       "PAY_AMT2                    0.043954 -0.064614  0.082250  0.035946  0.245028   \n",
       "PAY_AMT3                    0.034018 -0.054617  0.085910  0.101737  0.067078   \n",
       "PAY_AMT4                    0.040411 -0.035075  0.094282  0.117600  0.142798   \n",
       "PAY_AMT5                    0.037773 -0.026318  0.097854  0.123099  0.160351   \n",
       "PAY_AMT6                    0.039252 -0.045749  0.081440  0.097173  0.141138   \n",
       "default payment next month  0.005563  0.292027  0.216524  0.194255  0.173312   \n",
       "\n",
       "                               PAY_5  ...  BILL_AMT4  BILL_AMT5  BILL_AMT6  \\\n",
       "LIMIT_BAL                  -0.285160  ...   0.072561   0.080384   0.088130   \n",
       "SEX                        -0.053226  ...  -0.022822  -0.015054  -0.010633   \n",
       "EDUCATION                   0.135926  ...   0.068108   0.059475   0.055025   \n",
       "MARRIAGE                    0.047018  ...   0.005361   0.003399   0.004320   \n",
       "AGE                        -0.083558  ...  -0.003328  -0.000534   0.000039   \n",
       "PAY_0                       0.486512  ...   0.306448   0.298234   0.288745   \n",
       "PAY_2                       0.673430  ...   0.496649   0.477367   0.458221   \n",
       "PAY_3                       0.718078  ...   0.530649   0.506614   0.483601   \n",
       "PAY_4                       0.821820  ...   0.591817   0.560537   0.532332   \n",
       "PAY_5                       1.000000  ...   0.649483   0.617868   0.578585   \n",
       "PAY_6                       0.820745  ...   0.605553   0.667213   0.629096   \n",
       "BILL_AMT1                   0.498387  ...   0.806639   0.768602   0.733360   \n",
       "BILL_AMT2                   0.536869  ...   0.847700   0.802419   0.764603   \n",
       "BILL_AMT3                   0.586495  ...   0.903453   0.848206   0.803781   \n",
       "BILL_AMT4                   0.649483  ...   1.000000   0.902749   0.847864   \n",
       "BILL_AMT5                   0.617868  ...   0.902749   1.000000   0.902238   \n",
       "BILL_AMT6                   0.578585  ...   0.847864   0.902238   1.000000   \n",
       "PAY_AMT1                    0.174532  ...   0.511849   0.482090   0.455678   \n",
       "PAY_AMT2                    0.220761  ...   0.554436   0.514406   0.485811   \n",
       "PAY_AMT3                    0.258850  ...   0.632943   0.548918   0.518451   \n",
       "PAY_AMT4                    0.105042  ...   0.505454   0.645864   0.569124   \n",
       "PAY_AMT5                    0.183936  ...   0.504270   0.524931   0.666327   \n",
       "PAY_AMT6                    0.170629  ...   0.481113   0.509190   0.529000   \n",
       "default payment next month  0.158488  ...  -0.009486  -0.007706  -0.000716   \n",
       "\n",
       "                            PAY_AMT1  PAY_AMT2  PAY_AMT3  PAY_AMT4  PAY_AMT5  \\\n",
       "LIMIT_BAL                   0.272685  0.279131  0.284942  0.282981  0.293908   \n",
       "SEX                        -0.004916  0.008343  0.020621  0.013281  0.015016   \n",
       "EDUCATION                  -0.042778 -0.047863 -0.042720 -0.044068 -0.050619   \n",
       "MARRIAGE                   -0.004408 -0.015707 -0.013435 -0.016390 -0.013438   \n",
       "AGE                         0.033869  0.043954  0.034018  0.040411  0.037773   \n",
       "PAY_0                      -0.097742 -0.064614 -0.054617 -0.035075 -0.026318   \n",
       "PAY_2                       0.020080  0.082250  0.085910  0.094282  0.097854   \n",
       "PAY_3                       0.214828  0.035946  0.101737  0.117600  0.123099   \n",
       "PAY_4                       0.184366  0.245028  0.067078  0.142798  0.160351   \n",
       "PAY_5                       0.174532  0.220761  0.258850  0.105042  0.183936   \n",
       "PAY_6                       0.176755  0.198725  0.236582  0.282570  0.139950   \n",
       "BILL_AMT1                   0.502388  0.471454  0.439682  0.440749  0.424513   \n",
       "BILL_AMT2                   0.635715  0.496508  0.467109  0.459598  0.448271   \n",
       "BILL_AMT3                   0.549358  0.636920  0.491244  0.487033  0.477186   \n",
       "BILL_AMT4                   0.511849  0.554436  0.632943  0.505454  0.504270   \n",
       "BILL_AMT5                   0.482090  0.514406  0.548918  0.645864  0.524931   \n",
       "BILL_AMT6                   0.455678  0.485811  0.518451  0.569124  0.666327   \n",
       "PAY_AMT1                    1.000000  0.511090  0.518434  0.484300  0.467305   \n",
       "PAY_AMT2                    0.511090  1.000000  0.515649  0.518842  0.496743   \n",
       "PAY_AMT3                    0.518434  0.515649  1.000000  0.515078  0.533568   \n",
       "PAY_AMT4                    0.484300  0.518842  0.515078  1.000000  0.534313   \n",
       "PAY_AMT5                    0.467305  0.496743  0.533568  0.534313  1.000000   \n",
       "PAY_AMT6                    0.454556  0.490977  0.505670  0.546488  0.548917   \n",
       "default payment next month -0.160923 -0.151657 -0.140389 -0.128567 -0.116669   \n",
       "\n",
       "                            PAY_AMT6  default payment next month  \n",
       "LIMIT_BAL                   0.317297                   -0.169137  \n",
       "SEX                         0.033586                   -0.040052  \n",
       "EDUCATION                  -0.054342                    0.044159  \n",
       "MARRIAGE                   -0.015797                   -0.026465  \n",
       "AGE                         0.039252                    0.005563  \n",
       "PAY_0                      -0.045749                    0.292027  \n",
       "PAY_2                       0.081440                    0.216524  \n",
       "PAY_3                       0.097173                    0.194255  \n",
       "PAY_4                       0.141138                    0.173312  \n",
       "PAY_5                       0.170629                    0.158488  \n",
       "PAY_6                       0.197115                    0.141842  \n",
       "BILL_AMT1                   0.409931                   -0.026160  \n",
       "BILL_AMT2                   0.428458                   -0.016383  \n",
       "BILL_AMT3                   0.457919                   -0.013824  \n",
       "BILL_AMT4                   0.481113                   -0.009486  \n",
       "BILL_AMT5                   0.509190                   -0.007706  \n",
       "BILL_AMT6                   0.529000                   -0.000716  \n",
       "PAY_AMT1                    0.454556                   -0.160923  \n",
       "PAY_AMT2                    0.490977                   -0.151657  \n",
       "PAY_AMT3                    0.505670                   -0.140389  \n",
       "PAY_AMT4                    0.546488                   -0.128567  \n",
       "PAY_AMT5                    0.548917                   -0.116669  \n",
       "PAY_AMT6                    1.000000                   -0.121912  \n",
       "default payment next month -0.121912                    1.000000  \n",
       "\n",
       "[24 rows x 24 columns]"
      ]
     },
     "execution_count": 18,
     "metadata": {},
     "output_type": "execute_result"
    }
   ],
   "source": [
    "df_corr"
   ]
  },
  {
   "cell_type": "markdown",
   "metadata": {},
   "source": [
    "There is high correlation between the BILL_AMTX and PAY_AMTX features, which can indicate a good source for default.\n",
    "Other variables as MARRIAGE, SEX and AGE, in the contrary, do not have a strong correlation with the other variables.\n",
    "As the variables with high correlation are the ones related to the payments, we could use a classification algorithm to predict the miss of the next payments and therefore predict default."
   ]
  },
  {
   "cell_type": "markdown",
   "metadata": {},
   "source": [
    "# Base Models"
   ]
  },
  {
   "cell_type": "code",
   "execution_count": 19,
   "metadata": {},
   "outputs": [],
   "source": [
    " def split_dataset(df_clean):\n",
    "    # Labels are the values we want to predict\n",
    "    y = np.array(df_clean['default payment next month'])\n",
    "    # Remove the labels from the features\n",
    "    # axis 1 refers to the columns\n",
    "    features= df_clean.drop('default payment next month', axis = 1)\n",
    "    # Saving feature names for later use\n",
    "    feature_list = list(df_clean.columns)\n",
    "    # Convert to numpy array\n",
    "    x = np.array(features)\n",
    "    train_x, test_x, train_y, test_y = train_test_split(x, y, test_size = 0.25, random_state = 42)\n",
    "    return train_x, test_x, train_y, test_y"
   ]
  },
  {
   "cell_type": "code",
   "execution_count": 20,
   "metadata": {},
   "outputs": [],
   "source": [
    "def con_mat(test_y, predictions):  \n",
    "    CM = confusion_matrix(test_y, predictions)\n",
    "    # Visualize it as a heatmap\n",
    "    plt.figure(figsize=(10,10))\n",
    "    cmap = sns.diverging_palette(240, 10, as_cmap=True)# Plotting the heatmap\n",
    "    sns.heatmap(CM, cmap=cmap, annot=CM, fmt='d')\n",
    "    plt.xlabel('Actual')\n",
    "    plt.ylabel('Predicted')\n",
    "    return plt, CM"
   ]
  },
  {
   "cell_type": "code",
   "execution_count": 21,
   "metadata": {},
   "outputs": [],
   "source": [
    "def rf_class(train_x, train_y):\n",
    "    # Instantiate model with 1000 decision trees\n",
    "    rf_class = RandomForestClassifier(n_estimators=1000, random_state=42, n_jobs=4)# Train the model on training data\n",
    "    rf_class.fit(train_x, train_y)\n",
    "    predictions = rf_class.predict(test_x)\n",
    "    return predictions"
   ]
  },
  {
   "cell_type": "code",
   "execution_count": 22,
   "metadata": {},
   "outputs": [],
   "source": [
    "def xg_class(train_x, train_y):\n",
    "    xg_class = XGBClassifier(objective=\"binary:logistic\", n_estimators=1000, random_state=42)\n",
    "    xg_class.fit(train_x, train_y)\n",
    "    xg_preds = xg_class.predict(test_x)\n",
    "    return xg_preds"
   ]
  },
  {
   "cell_type": "markdown",
   "metadata": {},
   "source": [
    "### Random Forest\n",
    "Let's use Random Forest First"
   ]
  },
  {
   "cell_type": "code",
   "execution_count": 23,
   "metadata": {},
   "outputs": [
    {
     "name": "stdout",
     "output_type": "stream",
     "text": [
      "Training Features Shape: (22262, 23)\n",
      "Training Labels Shape: (22262,)\n",
      "Testing Features Shape: (7421, 23)\n",
      "Testing Labels Shape: (7421,)\n"
     ]
    }
   ],
   "source": [
    "train_x, test_x, train_y, test_y = split_dataset(df_clean)\n",
    "print('Training Features Shape:', train_x.shape)\n",
    "print('Training Labels Shape:', train_y.shape)\n",
    "print('Testing Features Shape:', test_x.shape)\n",
    "print('Testing Labels Shape:', test_y.shape)"
   ]
  },
  {
   "cell_type": "code",
   "execution_count": 24,
   "metadata": {},
   "outputs": [],
   "source": [
    "# Make the predictions Using Random Forest\n",
    "rf_preds = rf_class(train_x, train_y)"
   ]
  },
  {
   "cell_type": "code",
   "execution_count": 25,
   "metadata": {},
   "outputs": [
    {
     "name": "stdout",
     "output_type": "stream",
     "text": [
      "[[5437  328]\n",
      " [1036  620]]\n",
      "Accuracy: 81.62%\n"
     ]
    },
    {
     "data": {
      "image/png": "[encoded data removed]",
      "text/plain": [
       "<Figure size 720x720 with 2 Axes>"
      ]
     },
     "metadata": {
      "needs_background": "light"
     },
     "output_type": "display_data"
    }
   ],
   "source": [
    "# Visualise classical Confusion Matrix\n",
    "plt, CM = con_mat(test_y, rf_preds)\n",
    "print(CM)\n",
    "plt.show\n",
    "# Visualize it as a heatmap\n",
    "accuracy = accuracy_score(test_y, rf_preds)\n",
    "print('Accuracy: %.2f%%' % (accuracy*100))"
   ]
  },
  {
   "cell_type": "markdown",
   "metadata": {},
   "source": [
    "Matrix shows a good accurate prediction ratio of 81.62% "
   ]
  },
  {
   "cell_type": "markdown",
   "metadata": {},
   "source": [
    "### XGBoost\n",
    "Now let's try with XGBoost"
   ]
  },
  {
   "cell_type": "code",
   "execution_count": 26,
   "metadata": {},
   "outputs": [
    {
     "name": "stdout",
     "output_type": "stream",
     "text": [
      "[[5458  307]\n",
      " [1050  606]]\n"
     ]
    },
    {
     "data": {
      "image/png": "[encoded data removed]",
      "text/plain": [
       "<Figure size 720x720 with 2 Axes>"
      ]
     },
     "metadata": {
      "needs_background": "light"
     },
     "output_type": "display_data"
    }
   ],
   "source": [
    "# Make the predictions Using XGBoost\n",
    "xg_preds = xg_class(train_x, train_y)\n",
    "# Visualise classical Confusion Matrix\n",
    "plt, XGCM = con_mat(test_y, xg_preds)\n",
    "print(XGCM)\n",
    "# Visualize it as a heatmap\n",
    "plt.show()"
   ]
  },
  {
   "cell_type": "code",
   "execution_count": 27,
   "metadata": {},
   "outputs": [
    {
     "name": "stdout",
     "output_type": "stream",
     "text": [
      "Accuracy: 81.71%\n"
     ]
    }
   ],
   "source": [
    "accuracy = accuracy_score(test_y, xg_preds)\n",
    "print('Accuracy: %.2f%%' % (accuracy*100))"
   ]
  },
  {
   "cell_type": "markdown",
   "metadata": {},
   "source": [
    "Matrix shows a good accurate prediction ratio of 81.71%, an increase of 0.09% in comparisson with RandomForest but in general terms very similar"
   ]
  },
  {
   "cell_type": "markdown",
   "metadata": {},
   "source": [
    "Let's try some Feature Engineering"
   ]
  },
  {
   "cell_type": "markdown",
   "metadata": {},
   "source": [
    "# Feature Engineering\n",
    "Will perform the following:\n",
    "- create TOTAL columns from BILL_AMTX and PAY_AMTX fields\n",
    "- Create percentage of TOTAL_BILL related to LIMIT_BALANCE\n",
    "\n",
    "__Note__: Only took into account columns that has correspondant information. e.g. PAY_AMT1 corresponds to BILL_AMT2. therefore, the Payment made in September 2005 corresponds with the Bill generated in August 2005 and so on, leaving unused BILL_AMT1 and PAY_AMT6\n"
   ]
  },
  {
   "cell_type": "code",
   "execution_count": 28,
   "metadata": {},
   "outputs": [],
   "source": [
    "df_clean['TOTAL_BILL'] = df_clean.apply(lambda row: row.BILL_AMT1 + row.BILL_AMT2 + row.BILL_AMT3 + row.BILL_AMT4 + row.BILL_AMT5 + row.BILL_AMT6, axis=1)\n",
    "df_clean['TOTAL_PAY'] = df_clean.apply(lambda row: row.PAY_AMT1 + row.PAY_AMT2 + row.PAY_AMT3 + row.PAY_AMT4 + row.PAY_AMT5 + row.PAY_AMT6, axis=1)"
   ]
  },
  {
   "cell_type": "code",
   "execution_count": 29,
   "metadata": {},
   "outputs": [
    {
     "data": {
      "text/html": [
       "<div>\n",
       "<style scoped>\n",
       "    .dataframe tbody tr th:only-of-type {\n",
       "        vertical-align: middle;\n",
       "    }\n",
       "\n",
       "    .dataframe tbody tr th {\n",
       "        vertical-align: top;\n",
       "    }\n",
       "\n",
       "    .dataframe thead th {\n",
       "        text-align: right;\n",
       "    }\n",
       "</style>\n",
       "<table border=\"1\" class=\"dataframe\">\n",
       "  <thead>\n",
       "    <tr style=\"text-align: right;\">\n",
       "      <th></th>\n",
       "      <th>LIMIT_BAL</th>\n",
       "      <th>SEX</th>\n",
       "      <th>EDUCATION</th>\n",
       "      <th>MARRIAGE</th>\n",
       "      <th>AGE</th>\n",
       "      <th>PAY_0</th>\n",
       "      <th>PAY_2</th>\n",
       "      <th>PAY_3</th>\n",
       "      <th>PAY_4</th>\n",
       "      <th>PAY_5</th>\n",
       "      <th>...</th>\n",
       "      <th>BILL_AMT6</th>\n",
       "      <th>PAY_AMT1</th>\n",
       "      <th>PAY_AMT2</th>\n",
       "      <th>PAY_AMT3</th>\n",
       "      <th>PAY_AMT4</th>\n",
       "      <th>PAY_AMT5</th>\n",
       "      <th>PAY_AMT6</th>\n",
       "      <th>default payment next month</th>\n",
       "      <th>TOTAL_BILL</th>\n",
       "      <th>TOTAL_PAY</th>\n",
       "    </tr>\n",
       "    <tr>\n",
       "      <th>ID</th>\n",
       "      <th></th>\n",
       "      <th></th>\n",
       "      <th></th>\n",
       "      <th></th>\n",
       "      <th></th>\n",
       "      <th></th>\n",
       "      <th></th>\n",
       "      <th></th>\n",
       "      <th></th>\n",
       "      <th></th>\n",
       "      <th></th>\n",
       "      <th></th>\n",
       "      <th></th>\n",
       "      <th></th>\n",
       "      <th></th>\n",
       "      <th></th>\n",
       "      <th></th>\n",
       "      <th></th>\n",
       "      <th></th>\n",
       "      <th></th>\n",
       "      <th></th>\n",
       "    </tr>\n",
       "  </thead>\n",
       "  <tbody>\n",
       "    <tr>\n",
       "      <td>1</td>\n",
       "      <td>20000</td>\n",
       "      <td>2</td>\n",
       "      <td>2</td>\n",
       "      <td>1</td>\n",
       "      <td>24</td>\n",
       "      <td>2</td>\n",
       "      <td>2</td>\n",
       "      <td>-1</td>\n",
       "      <td>-1</td>\n",
       "      <td>-2</td>\n",
       "      <td>...</td>\n",
       "      <td>0</td>\n",
       "      <td>0</td>\n",
       "      <td>689</td>\n",
       "      <td>0</td>\n",
       "      <td>0</td>\n",
       "      <td>0</td>\n",
       "      <td>0</td>\n",
       "      <td>1</td>\n",
       "      <td>7704</td>\n",
       "      <td>689</td>\n",
       "    </tr>\n",
       "    <tr>\n",
       "      <td>2</td>\n",
       "      <td>120000</td>\n",
       "      <td>2</td>\n",
       "      <td>2</td>\n",
       "      <td>2</td>\n",
       "      <td>26</td>\n",
       "      <td>-1</td>\n",
       "      <td>2</td>\n",
       "      <td>0</td>\n",
       "      <td>0</td>\n",
       "      <td>0</td>\n",
       "      <td>...</td>\n",
       "      <td>3261</td>\n",
       "      <td>0</td>\n",
       "      <td>1000</td>\n",
       "      <td>1000</td>\n",
       "      <td>1000</td>\n",
       "      <td>0</td>\n",
       "      <td>2000</td>\n",
       "      <td>1</td>\n",
       "      <td>17077</td>\n",
       "      <td>5000</td>\n",
       "    </tr>\n",
       "    <tr>\n",
       "      <td>3</td>\n",
       "      <td>90000</td>\n",
       "      <td>2</td>\n",
       "      <td>2</td>\n",
       "      <td>2</td>\n",
       "      <td>34</td>\n",
       "      <td>0</td>\n",
       "      <td>0</td>\n",
       "      <td>0</td>\n",
       "      <td>0</td>\n",
       "      <td>0</td>\n",
       "      <td>...</td>\n",
       "      <td>15549</td>\n",
       "      <td>1518</td>\n",
       "      <td>1500</td>\n",
       "      <td>1000</td>\n",
       "      <td>1000</td>\n",
       "      <td>1000</td>\n",
       "      <td>5000</td>\n",
       "      <td>0</td>\n",
       "      <td>101653</td>\n",
       "      <td>11018</td>\n",
       "    </tr>\n",
       "    <tr>\n",
       "      <td>4</td>\n",
       "      <td>50000</td>\n",
       "      <td>2</td>\n",
       "      <td>2</td>\n",
       "      <td>1</td>\n",
       "      <td>37</td>\n",
       "      <td>0</td>\n",
       "      <td>0</td>\n",
       "      <td>0</td>\n",
       "      <td>0</td>\n",
       "      <td>0</td>\n",
       "      <td>...</td>\n",
       "      <td>29547</td>\n",
       "      <td>2000</td>\n",
       "      <td>2019</td>\n",
       "      <td>1200</td>\n",
       "      <td>1100</td>\n",
       "      <td>1069</td>\n",
       "      <td>1000</td>\n",
       "      <td>0</td>\n",
       "      <td>231334</td>\n",
       "      <td>8388</td>\n",
       "    </tr>\n",
       "    <tr>\n",
       "      <td>5</td>\n",
       "      <td>50000</td>\n",
       "      <td>1</td>\n",
       "      <td>2</td>\n",
       "      <td>1</td>\n",
       "      <td>57</td>\n",
       "      <td>-1</td>\n",
       "      <td>0</td>\n",
       "      <td>-1</td>\n",
       "      <td>0</td>\n",
       "      <td>0</td>\n",
       "      <td>...</td>\n",
       "      <td>19131</td>\n",
       "      <td>2000</td>\n",
       "      <td>36681</td>\n",
       "      <td>10000</td>\n",
       "      <td>9000</td>\n",
       "      <td>689</td>\n",
       "      <td>679</td>\n",
       "      <td>0</td>\n",
       "      <td>109339</td>\n",
       "      <td>59049</td>\n",
       "    </tr>\n",
       "  </tbody>\n",
       "</table>\n",
       "<p>5 rows × 26 columns</p>\n",
       "</div>"
      ],
      "text/plain": [
       "    LIMIT_BAL  SEX  EDUCATION  MARRIAGE  AGE  PAY_0  PAY_2  PAY_3  PAY_4  \\\n",
       "ID                                                                         \n",
       "1       20000    2          2         1   24      2      2     -1     -1   \n",
       "2      120000    2          2         2   26     -1      2      0      0   \n",
       "3       90000    2          2         2   34      0      0      0      0   \n",
       "4       50000    2          2         1   37      0      0      0      0   \n",
       "5       50000    1          2         1   57     -1      0     -1      0   \n",
       "\n",
       "    PAY_5  ...  BILL_AMT6  PAY_AMT1  PAY_AMT2  PAY_AMT3  PAY_AMT4  PAY_AMT5  \\\n",
       "ID         ...                                                                \n",
       "1      -2  ...          0         0       689         0         0         0   \n",
       "2       0  ...       3261         0      1000      1000      1000         0   \n",
       "3       0  ...      15549      1518      1500      1000      1000      1000   \n",
       "4       0  ...      29547      2000      2019      1200      1100      1069   \n",
       "5       0  ...      19131      2000     36681     10000      9000       689   \n",
       "\n",
       "    PAY_AMT6  default payment next month  TOTAL_BILL  TOTAL_PAY  \n",
       "ID                                                               \n",
       "1          0                           1        7704        689  \n",
       "2       2000                           1       17077       5000  \n",
       "3       5000                           0      101653      11018  \n",
       "4       1000                           0      231334       8388  \n",
       "5        679                           0      109339      59049  \n",
       "\n",
       "[5 rows x 26 columns]"
      ]
     },
     "execution_count": 29,
     "metadata": {},
     "output_type": "execute_result"
    }
   ],
   "source": [
    "df_clean.head()"
   ]
  },
  {
   "cell_type": "code",
   "execution_count": 30,
   "metadata": {},
   "outputs": [
    {
     "name": "stdout",
     "output_type": "stream",
     "text": [
      "Training Features Shape: (22262, 25)\n",
      "Training Labels Shape: (22262,)\n",
      "Testing Features Shape: (7421, 25)\n",
      "Testing Labels Shape: (7421,)\n"
     ]
    }
   ],
   "source": [
    "# Lets divide the dataset with the new columns into train and test\n",
    "train_x, test_x, train_y, test_y = split_dataset(df_clean)\n",
    "print('Training Features Shape:', train_x.shape)\n",
    "print('Training Labels Shape:', train_y.shape)\n",
    "print('Testing Features Shape:', test_x.shape)\n",
    "print('Testing Labels Shape:', test_y.shape)"
   ]
  },
  {
   "cell_type": "markdown",
   "metadata": {},
   "source": [
    "- Re-run Random Forest to assess if new columns improve accuracy"
   ]
  },
  {
   "cell_type": "code",
   "execution_count": 31,
   "metadata": {},
   "outputs": [
    {
     "name": "stdout",
     "output_type": "stream",
     "text": [
      "[[5437  328]\n",
      " [1035  621]]\n",
      "Accuracy: 81.63%\n"
     ]
    },
    {
     "data": {
      "image/png": "[encoded data removed]",
      "text/plain": [
       "<Figure size 720x720 with 2 Axes>"
      ]
     },
     "metadata": {
      "needs_background": "light"
     },
     "output_type": "display_data"
    }
   ],
   "source": [
    "# Make the predictions Using Random Forest\n",
    "rf_preds = rf_class(train_x, train_y)\n",
    "# Visualise classical Confusion Matrix\n",
    "plt, CM = con_mat(test_y, rf_preds)\n",
    "print(CM)\n",
    "plt.show\n",
    "# Visualize it as a heatmap\n",
    "accuracy = accuracy_score(test_y, rf_preds)\n",
    "print('Accuracy: %.2f%%' % (accuracy*100))"
   ]
  },
  {
   "cell_type": "markdown",
   "metadata": {},
   "source": [
    "It made some improvements but not significant ones"
   ]
  },
  {
   "cell_type": "code",
   "execution_count": 32,
   "metadata": {},
   "outputs": [
    {
     "name": "stdout",
     "output_type": "stream",
     "text": [
      "[[5465  300]\n",
      " [1036  620]]\n"
     ]
    },
    {
     "data": {
      "image/png": "[encoded data removed]",
      "text/plain": [
       "<Figure size 720x720 with 2 Axes>"
      ]
     },
     "metadata": {
      "needs_background": "light"
     },
     "output_type": "display_data"
    },
    {
     "name": "stdout",
     "output_type": "stream",
     "text": [
      "Accuracy: 82.00%\n"
     ]
    }
   ],
   "source": [
    "# Make the predictions Using XGBoost\n",
    "xg_preds = xg_class(train_x, train_y)\n",
    "# Visualise classical Confusion Matrix\n",
    "plt, XGCM = con_mat(test_y, xg_preds)\n",
    "print(XGCM)\n",
    "# Visualize it as a heatmap\n",
    "plt.show()\n",
    "accuracy = accuracy_score(test_y, xg_preds)\n",
    "print('Accuracy: %.2f%%' % (accuracy*100))"
   ]
  },
  {
   "cell_type": "markdown",
   "metadata": {},
   "source": [
    "Also produced some improvement but not really a significant one. However, the False Positives where the model predicted No Default(0) but the actual was Default(1) presents its minimum value in comparison with the other models explored. This variable have bigger consequences and affect more the business thant the False Negatives, which are the ones predicted to go into Default(1), but at the end were No Default(0) \n",
    "\n",
    "Let's see what happen when we add more columns.\n",
    "The column CREDIT_BALANCE is a relation of the TOTAL_BILL and the LIMIT_BALANCE"
   ]
  },
  {
   "cell_type": "code",
   "execution_count": 33,
   "metadata": {},
   "outputs": [],
   "source": [
    "df_clean['CREDIT_BALANCE'] = df_clean.apply(lambda row: row.TOTAL_BILL / row.LIMIT_BAL, axis=1)\n"
   ]
  },
  {
   "cell_type": "code",
   "execution_count": 34,
   "metadata": {},
   "outputs": [
    {
     "data": {
      "text/html": [
       "<div>\n",
       "<style scoped>\n",
       "    .dataframe tbody tr th:only-of-type {\n",
       "        vertical-align: middle;\n",
       "    }\n",
       "\n",
       "    .dataframe tbody tr th {\n",
       "        vertical-align: top;\n",
       "    }\n",
       "\n",
       "    .dataframe thead th {\n",
       "        text-align: right;\n",
       "    }\n",
       "</style>\n",
       "<table border=\"1\" class=\"dataframe\">\n",
       "  <thead>\n",
       "    <tr style=\"text-align: right;\">\n",
       "      <th></th>\n",
       "      <th>LIMIT_BAL</th>\n",
       "      <th>SEX</th>\n",
       "      <th>EDUCATION</th>\n",
       "      <th>MARRIAGE</th>\n",
       "      <th>AGE</th>\n",
       "      <th>PAY_0</th>\n",
       "      <th>PAY_2</th>\n",
       "      <th>PAY_3</th>\n",
       "      <th>PAY_4</th>\n",
       "      <th>PAY_5</th>\n",
       "      <th>...</th>\n",
       "      <th>PAY_AMT1</th>\n",
       "      <th>PAY_AMT2</th>\n",
       "      <th>PAY_AMT3</th>\n",
       "      <th>PAY_AMT4</th>\n",
       "      <th>PAY_AMT5</th>\n",
       "      <th>PAY_AMT6</th>\n",
       "      <th>default payment next month</th>\n",
       "      <th>TOTAL_BILL</th>\n",
       "      <th>TOTAL_PAY</th>\n",
       "      <th>CREDIT_BALANCE</th>\n",
       "    </tr>\n",
       "    <tr>\n",
       "      <th>ID</th>\n",
       "      <th></th>\n",
       "      <th></th>\n",
       "      <th></th>\n",
       "      <th></th>\n",
       "      <th></th>\n",
       "      <th></th>\n",
       "      <th></th>\n",
       "      <th></th>\n",
       "      <th></th>\n",
       "      <th></th>\n",
       "      <th></th>\n",
       "      <th></th>\n",
       "      <th></th>\n",
       "      <th></th>\n",
       "      <th></th>\n",
       "      <th></th>\n",
       "      <th></th>\n",
       "      <th></th>\n",
       "      <th></th>\n",
       "      <th></th>\n",
       "      <th></th>\n",
       "    </tr>\n",
       "  </thead>\n",
       "  <tbody>\n",
       "    <tr>\n",
       "      <td>1</td>\n",
       "      <td>20000</td>\n",
       "      <td>2</td>\n",
       "      <td>2</td>\n",
       "      <td>1</td>\n",
       "      <td>24</td>\n",
       "      <td>2</td>\n",
       "      <td>2</td>\n",
       "      <td>-1</td>\n",
       "      <td>-1</td>\n",
       "      <td>-2</td>\n",
       "      <td>...</td>\n",
       "      <td>0</td>\n",
       "      <td>689</td>\n",
       "      <td>0</td>\n",
       "      <td>0</td>\n",
       "      <td>0</td>\n",
       "      <td>0</td>\n",
       "      <td>1</td>\n",
       "      <td>7704</td>\n",
       "      <td>689</td>\n",
       "      <td>0.385200</td>\n",
       "    </tr>\n",
       "    <tr>\n",
       "      <td>2</td>\n",
       "      <td>120000</td>\n",
       "      <td>2</td>\n",
       "      <td>2</td>\n",
       "      <td>2</td>\n",
       "      <td>26</td>\n",
       "      <td>-1</td>\n",
       "      <td>2</td>\n",
       "      <td>0</td>\n",
       "      <td>0</td>\n",
       "      <td>0</td>\n",
       "      <td>...</td>\n",
       "      <td>0</td>\n",
       "      <td>1000</td>\n",
       "      <td>1000</td>\n",
       "      <td>1000</td>\n",
       "      <td>0</td>\n",
       "      <td>2000</td>\n",
       "      <td>1</td>\n",
       "      <td>17077</td>\n",
       "      <td>5000</td>\n",
       "      <td>0.142308</td>\n",
       "    </tr>\n",
       "    <tr>\n",
       "      <td>3</td>\n",
       "      <td>90000</td>\n",
       "      <td>2</td>\n",
       "      <td>2</td>\n",
       "      <td>2</td>\n",
       "      <td>34</td>\n",
       "      <td>0</td>\n",
       "      <td>0</td>\n",
       "      <td>0</td>\n",
       "      <td>0</td>\n",
       "      <td>0</td>\n",
       "      <td>...</td>\n",
       "      <td>1518</td>\n",
       "      <td>1500</td>\n",
       "      <td>1000</td>\n",
       "      <td>1000</td>\n",
       "      <td>1000</td>\n",
       "      <td>5000</td>\n",
       "      <td>0</td>\n",
       "      <td>101653</td>\n",
       "      <td>11018</td>\n",
       "      <td>1.129478</td>\n",
       "    </tr>\n",
       "    <tr>\n",
       "      <td>4</td>\n",
       "      <td>50000</td>\n",
       "      <td>2</td>\n",
       "      <td>2</td>\n",
       "      <td>1</td>\n",
       "      <td>37</td>\n",
       "      <td>0</td>\n",
       "      <td>0</td>\n",
       "      <td>0</td>\n",
       "      <td>0</td>\n",
       "      <td>0</td>\n",
       "      <td>...</td>\n",
       "      <td>2000</td>\n",
       "      <td>2019</td>\n",
       "      <td>1200</td>\n",
       "      <td>1100</td>\n",
       "      <td>1069</td>\n",
       "      <td>1000</td>\n",
       "      <td>0</td>\n",
       "      <td>231334</td>\n",
       "      <td>8388</td>\n",
       "      <td>4.626680</td>\n",
       "    </tr>\n",
       "    <tr>\n",
       "      <td>5</td>\n",
       "      <td>50000</td>\n",
       "      <td>1</td>\n",
       "      <td>2</td>\n",
       "      <td>1</td>\n",
       "      <td>57</td>\n",
       "      <td>-1</td>\n",
       "      <td>0</td>\n",
       "      <td>-1</td>\n",
       "      <td>0</td>\n",
       "      <td>0</td>\n",
       "      <td>...</td>\n",
       "      <td>2000</td>\n",
       "      <td>36681</td>\n",
       "      <td>10000</td>\n",
       "      <td>9000</td>\n",
       "      <td>689</td>\n",
       "      <td>679</td>\n",
       "      <td>0</td>\n",
       "      <td>109339</td>\n",
       "      <td>59049</td>\n",
       "      <td>2.186780</td>\n",
       "    </tr>\n",
       "  </tbody>\n",
       "</table>\n",
       "<p>5 rows × 27 columns</p>\n",
       "</div>"
      ],
      "text/plain": [
       "    LIMIT_BAL  SEX  EDUCATION  MARRIAGE  AGE  PAY_0  PAY_2  PAY_3  PAY_4  \\\n",
       "ID                                                                         \n",
       "1       20000    2          2         1   24      2      2     -1     -1   \n",
       "2      120000    2          2         2   26     -1      2      0      0   \n",
       "3       90000    2          2         2   34      0      0      0      0   \n",
       "4       50000    2          2         1   37      0      0      0      0   \n",
       "5       50000    1          2         1   57     -1      0     -1      0   \n",
       "\n",
       "    PAY_5  ...  PAY_AMT1  PAY_AMT2  PAY_AMT3  PAY_AMT4  PAY_AMT5  PAY_AMT6  \\\n",
       "ID         ...                                                               \n",
       "1      -2  ...         0       689         0         0         0         0   \n",
       "2       0  ...         0      1000      1000      1000         0      2000   \n",
       "3       0  ...      1518      1500      1000      1000      1000      5000   \n",
       "4       0  ...      2000      2019      1200      1100      1069      1000   \n",
       "5       0  ...      2000     36681     10000      9000       689       679   \n",
       "\n",
       "    default payment next month  TOTAL_BILL  TOTAL_PAY  CREDIT_BALANCE  \n",
       "ID                                                                     \n",
       "1                            1        7704        689        0.385200  \n",
       "2                            1       17077       5000        0.142308  \n",
       "3                            0      101653      11018        1.129478  \n",
       "4                            0      231334       8388        4.626680  \n",
       "5                            0      109339      59049        2.186780  \n",
       "\n",
       "[5 rows x 27 columns]"
      ]
     },
     "execution_count": 34,
     "metadata": {},
     "output_type": "execute_result"
    }
   ],
   "source": [
    "df_clean.head()"
   ]
  },
  {
   "cell_type": "code",
   "execution_count": 35,
   "metadata": {},
   "outputs": [
    {
     "name": "stdout",
     "output_type": "stream",
     "text": [
      "Training Features Shape: (22262, 26)\n",
      "Training Labels Shape: (22262,)\n",
      "Testing Features Shape: (7421, 26)\n",
      "Testing Labels Shape: (7421,)\n"
     ]
    }
   ],
   "source": [
    "# Lets divide the dataset with the new columns into train and test\n",
    "train_x, test_x, train_y, test_y = split_dataset(df_clean)\n",
    "print('Training Features Shape:', train_x.shape)\n",
    "print('Training Labels Shape:', train_y.shape)\n",
    "print('Testing Features Shape:', test_x.shape)\n",
    "print('Testing Labels Shape:', test_y.shape)"
   ]
  },
  {
   "cell_type": "code",
   "execution_count": 38,
   "metadata": {},
   "outputs": [
    {
     "name": "stdout",
     "output_type": "stream",
     "text": [
      "[5433  332 1031  625]\n",
      "Accuracy: 81.63%\n"
     ]
    },
    {
     "data": {
      "image/png": "[encoded data removed]",
      "text/plain": [
       "<Figure size 720x720 with 2 Axes>"
      ]
     },
     "metadata": {
      "needs_background": "light"
     },
     "output_type": "display_data"
    }
   ],
   "source": [
    "# Make the predictions Using Random Forest\n",
    "rf_preds = rf_class(train_x, train_y)\n",
    "# Visualise classical Confusion Matrix\n",
    "plt, CM = con_mat(test_y, rf_preds)\n",
    "print(CM)\n",
    "plt.show\n",
    "# Visualize it as a heatmap\n",
    "accuracy = accuracy_score(test_y, rf_preds)\n",
    "print('Accuracy: %.2f%%' % (accuracy*100))"
   ]
  },
  {
   "cell_type": "code",
   "execution_count": 37,
   "metadata": {},
   "outputs": [
    {
     "name": "stdout",
     "output_type": "stream",
     "text": [
      "[[5450  315]\n",
      " [1038  618]]\n"
     ]
    },
    {
     "data": {
      "image/png": "[encoded data removed]",
      "text/plain": [
       "<Figure size 720x720 with 2 Axes>"
      ]
     },
     "metadata": {
      "needs_background": "light"
     },
     "output_type": "display_data"
    },
    {
     "name": "stdout",
     "output_type": "stream",
     "text": [
      "Accuracy: 81.77%\n"
     ]
    }
   ],
   "source": [
    "# Make the predictions Using XGBoost\n",
    "xg_preds = xg_class(train_x, train_y)\n",
    "# Visualise classical Confusion Matrix\n",
    "plt, XGCM = con_mat(test_y, xg_preds)\n",
    "print(XGCM)\n",
    "# Visualize it as a heatmap\n",
    "plt.show()\n",
    "accuracy = accuracy_score(test_y, xg_preds)\n",
    "print('Accuracy: %.2f%%' % (accuracy*100))"
   ]
  },
  {
   "cell_type": "markdown",
   "metadata": {},
   "source": [
    "# Conclusion\n",
    "\n",
    "In conclusion there is not too much difference using XGBoost and Random Forest for the classification of the customers into default and both of them have similar accuracy ranging between 81% and 82%. However, the EDA highlighted incongruencies in the data that can be derived from errors in the data collection process, as well as in the selection of the features of the dataset."
   ]
  },
  {
   "cell_type": "code",
   "execution_count": null,
   "metadata": {},
   "outputs": [],
   "source": []
  }
 ],
 "metadata": {
  "kernelspec": {
   "display_name": "Python 3",
   "language": "python",
   "name": "python3"
  },
  "language_info": {
   "codemirror_mode": {
    "name": "ipython",
    "version": 3
   },
   "file_extension": ".py",
   "mimetype": "text/x-python",
   "name": "python",
   "nbconvert_exporter": "python",
   "pygments_lexer": "ipython3",
   "version": "3.6.8"
  }
 },
 "nbformat": 4,
 "nbformat_minor": 2
}
